{
 "cells": [
  {
   "cell_type": "markdown",
   "metadata": {},
   "source": [
    "# Modelling\n",
    "\n",
    "We will load the data, and use the following tree-based methods:\n",
    "- Classification trees\n",
    "- Random forests\n",
    "- Gradient Boosted trees\n",
    "\n",
    "The data is loaded using the code below."
   ]
  },
  {
   "cell_type": "code",
   "execution_count": 22,
   "metadata": {
    "vscode": {
     "languageId": "plaintext"
    }
   },
   "outputs": [],
   "source": [
    "import pandas as pd\n",
    "\n",
    "# Load the saved datasets from the CSV files\n",
    "X_train = pd.read_csv(\"../data/X_train.csv\", index_col=0)  # Use the first column as index\n",
    "y_train = pd.read_csv(\"../data/y_train.csv\", index_col=0)  # Use the first column as index\n",
    "X_test = pd.read_csv(\"../data/X_test.csv\", index_col=0)    # Use the first column as index\n",
    "y_test = pd.read_csv(\"../data/y_test.csv\", index_col=0)    # Use the first column as index"
   ]
  },
  {
   "cell_type": "markdown",
   "metadata": {},
   "source": [
    "The main challenges we have to contend with for this data are the missing data and the imbalanced data. We stored the missing values as `NaN`."
   ]
  },
  {
   "cell_type": "code",
   "execution_count": 23,
   "metadata": {},
   "outputs": [
    {
     "name": "stdout",
     "output_type": "stream",
     "text": [
      "Unique values in 'workclass':\n",
      " ['State-gov' 'Self-emp-not-inc' 'Private' 'Federal-gov' 'Local-gov' nan\n",
      " 'Self-emp-inc' 'Without-pay' 'Never-worked']\n",
      "\n",
      "Unique values in 'occupation':\n",
      " ['Adm-clerical' 'Exec-managerial' 'Handlers-cleaners' 'Prof-specialty'\n",
      " 'Other-service' 'Sales' 'Craft-repair' 'Transport-moving'\n",
      " 'Farming-fishing' 'Tech-support' nan 'Protective-serv'\n",
      " 'Machine-op-inspct' 'Priv-house-serv' 'Armed-Forces']\n",
      "\n",
      "Unique values in 'native-country':\n",
      " ['United-States' 'Cuba' 'Jamaica' 'India' nan 'Mexico' 'South'\n",
      " 'Puerto-Rico' 'England' 'Canada' 'Germany' 'Iran' 'Philippines' 'Italy'\n",
      " 'Columbia' 'Cambodia' 'Thailand' 'Ecuador' 'Laos' 'Taiwan' 'Haiti'\n",
      " 'Portugal' 'El-Salvador' 'Poland' 'France' 'Dominican-Republic'\n",
      " 'Honduras' 'Guatemala' 'China' 'Japan' 'Yugoslavia' 'Peru'\n",
      " 'Outlying-US(Guam-USVI-etc)' 'Trinadad&Tobago' 'Nicaragua' 'Greece'\n",
      " 'Hong' 'Vietnam' 'Ireland' 'Scotland' 'Hungary' 'Holand-Netherlands']\n",
      "Number of missing values: 2799\n"
     ]
    }
   ],
   "source": [
    "# Check the unique values in the columns with missing data\n",
    "print(\"Unique values in 'workclass':\\n\", X_train['workclass'].unique())\n",
    "print(\"\\nUnique values in 'occupation':\\n\", X_train['occupation'].unique())\n",
    "print(\"\\nUnique values in 'native-country':\\n\", X_train['native-country'].unique())\n",
    "\n",
    "# Count the number of NaN values\n",
    "nan_count = X_train['workclass'].isna().sum()\n",
    "\n",
    "# Output the results\n",
    "print(f\"Number of missing values: {nan_count}\")"
   ]
  },
  {
   "cell_type": "markdown",
   "metadata": {},
   "source": [
    "To contend with the missing data, we will use the following strategies:\n",
    "- Treating missingness as its own category\n",
    "- Surrogate splits\n",
    "- Imputation.\n",
    "\n",
    "To contend with the imbalanced data, we will use SMOTE.\n",
    "\n",
    "We will explain each of these strategies as we use them in the modelling. "
   ]
  },
  {
   "cell_type": "markdown",
   "metadata": {},
   "source": [
    "# Deciding on a Performance Measure\n",
    "\n"
   ]
  }
 ],
 "metadata": {
  "kernelspec": {
   "display_name": "Python 3 (ipykernel)",
   "language": "python",
   "name": "python3"
  },
  "language_info": {
   "codemirror_mode": {
    "name": "ipython",
    "version": 3
   },
   "file_extension": ".py",
   "mimetype": "text/x-python",
   "name": "python",
   "nbconvert_exporter": "python",
   "pygments_lexer": "ipython3",
   "version": "3.11.10"
  }
 },
 "nbformat": 4,
 "nbformat_minor": 2
}
