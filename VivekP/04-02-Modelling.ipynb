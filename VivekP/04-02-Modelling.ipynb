{
 "cells": [
  {
   "cell_type": "markdown",
   "metadata": {},
   "source": [
    "# Modelling\n",
    "\n",
    "We will load the data, and use the following tree-based methods:\n",
    "- Classification trees\n",
    "- Random forests\n",
    "- Gradient Boosted trees\n",
    "\n",
    "The data is loaded using the code below."
   ]
  },
  {
   "cell_type": "code",
   "execution_count": 1,
   "metadata": {},
   "outputs": [],
   "source": [
    "import pandas as pd\n",
    "\n",
    "# Load the saved datasets from the CSV files\n",
    "X_train = pd.read_csv(\"../data/X_train.csv\", index_col=0)  # Use the first column as index\n",
    "y_train = pd.read_csv(\"../data/y_train.csv\", index_col=0)  # Use the first column as index\n",
    "X_test = pd.read_csv(\"../data/X_test.csv\", index_col=0)    # Use the first column as index\n",
    "y_test = pd.read_csv(\"../data/y_test.csv\", index_col=0)    # Use the first column as index"
   ]
  },
  {
   "cell_type": "markdown",
   "metadata": {},
   "source": [
    "The main challenges we have to contend with for this data are the missing data and the imbalanced data. We stored the missing values as `NaN`."
   ]
  },
  {
   "cell_type": "code",
   "execution_count": 2,
   "metadata": {},
   "outputs": [
    {
     "name": "stdout",
     "output_type": "stream",
     "text": [
      "Unique values in 'workclass':\n",
      " ['State-gov' 'Self-emp-not-inc' 'Private' 'Federal-gov' 'Local-gov' nan\n",
      " 'Self-emp-inc' 'Without-pay' 'Never-worked']\n",
      "\n",
      "Unique values in 'occupation':\n",
      " ['Adm-clerical' 'Exec-managerial' 'Handlers-cleaners' 'Prof-specialty'\n",
      " 'Other-service' 'Sales' 'Craft-repair' 'Transport-moving'\n",
      " 'Farming-fishing' 'Tech-support' nan 'Protective-serv'\n",
      " 'Machine-op-inspct' 'Priv-house-serv' 'Armed-Forces']\n",
      "\n",
      "Unique values in 'native-country':\n",
      " ['United-States' 'Cuba' 'Jamaica' 'India' nan 'Mexico' 'South'\n",
      " 'Puerto-Rico' 'England' 'Canada' 'Germany' 'Iran' 'Philippines' 'Italy'\n",
      " 'Columbia' 'Cambodia' 'Thailand' 'Ecuador' 'Laos' 'Taiwan' 'Haiti'\n",
      " 'Portugal' 'El-Salvador' 'Poland' 'France' 'Dominican-Republic'\n",
      " 'Honduras' 'Guatemala' 'China' 'Japan' 'Yugoslavia' 'Peru'\n",
      " 'Outlying-US(Guam-USVI-etc)' 'Trinadad&Tobago' 'Nicaragua' 'Greece'\n",
      " 'Hong' 'Vietnam' 'Ireland' 'Scotland' 'Hungary' 'Holand-Netherlands']\n",
      "Number of missing values: 2799\n"
     ]
    }
   ],
   "source": [
    "# Check the unique values in the columns with missing data\n",
    "print(\"Unique values in 'workclass':\\n\", X_train['workclass'].unique())\n",
    "print(\"\\nUnique values in 'occupation':\\n\", X_train['occupation'].unique())\n",
    "print(\"\\nUnique values in 'native-country':\\n\", X_train['native-country'].unique())\n",
    "\n",
    "# Count the number of NaN values\n",
    "nan_count = X_train['workclass'].isna().sum()\n",
    "\n",
    "# Output the results\n",
    "print(f\"Number of missing values: {nan_count}\")"
   ]
  },
  {
   "cell_type": "markdown",
   "metadata": {},
   "source": [
    "# About Missing Data\n",
    "\n",
    "Little and Rubin give the following three types of missingness in [Chapter 3.1, 1].\n",
    "\n",
    "- Missing completely at random (MCAR): Missingness is independent of any observed or unobserved variables. One example is when we cannot collect data on a patient in a hospital because a measuring instrument is accidentally broken. Some data would then be missing, and this would be independent of the observed or unobserved characteristics of the patient.  \n",
    "\n",
    "- Missing at random (MAR): Missingness depends on the observed data but not on the missing data.  Vateekul (see \\cite{vateekul2009tree}) gives an example in that `respondents with lower education may be less likely to complete the entire survey'. The cause of missingness is not due to the missing variable, but due to some other variables.\n",
    "\n",
    "- Non-ignorable missingness: This is missing data that is neither MAR nor MCAR. In other words, the value of a missing variable is related to the reason of its missingness. For example, some people may wish to not report their income in a survey due to their income itself.\n",
    "\\end{enumerate}\n",
    "\n",
    "From our EDA, we concluded that the missingness was not MCAR, and is likely related to the income. To contend with the missing data, we will use the following strategies:\n",
    "- Surrogate splits\n",
    "- Treating missingness as its own category\n",
    "- Imputation.\n",
    "\n",
    "# About Imbalanced Data\n",
    "\n",
    "When data is imbalanced, accuracy can become a misleading measure of performance, since predicting everything as the majority class can give good accuracy. We will look at metrics of performance that can be used with imbalanced data and look at a method called SMOTE to try to tackle imbalance.\n",
    "\n",
    "We will explain each of these strategies as we use them in the modelling. \n",
    "\n",
    "In the next section, we look at classification trees, and explore these methods of dealing with missingness and imbalance."
   ]
  }
 ],
 "metadata": {
  "kernelspec": {
   "display_name": "base",
   "language": "python",
   "name": "python3"
  },
  "language_info": {
   "codemirror_mode": {
    "name": "ipython",
    "version": 3
   },
   "file_extension": ".py",
   "mimetype": "text/x-python",
   "name": "python",
   "nbconvert_exporter": "python",
   "pygments_lexer": "ipython3",
   "version": "3.12.3"
  }
 },
 "nbformat": 4,
 "nbformat_minor": 2
}
