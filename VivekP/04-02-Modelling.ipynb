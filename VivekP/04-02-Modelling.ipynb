{
 "cells": [
  {
   "cell_type": "markdown",
   "metadata": {},
   "source": [
    "# Modelling\n",
    "\n",
    "We will load the data, and use the following tree-based methods:\n",
    "- Classification trees\n",
    "- Random forests\n",
    "- Gradient Boosted trees"
   ]
  },
  {
   "cell_type": "code",
   "execution_count": 5,
   "metadata": {
    "vscode": {
     "languageId": "plaintext"
    }
   },
   "outputs": [
    {
     "name": "stdout",
     "output_type": "stream",
     "text": [
      "Unique values in 'workclass':\n",
      " ['State-gov' 'Self-emp-not-inc' 'Private' 'Federal-gov' 'Local-gov'\n",
      " 'Self-emp-inc' '?' 'Without-pay' 'Never-worked' nan]\n",
      "\n",
      "Unique values in 'occupation':\n",
      " ['Adm-clerical' 'Exec-managerial' 'Handlers-cleaners' 'Prof-specialty'\n",
      " 'Other-service' 'Sales' 'Craft-repair' 'Transport-moving'\n",
      " 'Farming-fishing' 'Tech-support' 'Protective-serv' 'Machine-op-inspct'\n",
      " '?' 'Priv-house-serv' 'Armed-Forces' nan]\n",
      "\n",
      "Unique values in 'native-country':\n",
      " ['United-States' 'Cuba' 'Jamaica' 'India' '?' 'Mexico' 'Puerto-Rico'\n",
      " 'England' 'Canada' 'Germany' 'Iran' 'Philippines' 'Italy' 'Columbia'\n",
      " 'Cambodia' 'Thailand' 'Ecuador' 'Laos' 'Taiwan' 'Haiti' 'Portugal'\n",
      " 'El-Salvador' 'Poland' 'France' 'South' 'Dominican-Republic' 'Honduras'\n",
      " 'Guatemala' 'China' 'Japan' 'Yugoslavia' 'Peru'\n",
      " 'Outlying-US(Guam-USVI-etc)' 'Trinadad&Tobago' 'Nicaragua' 'Greece'\n",
      " 'Hong' 'Vietnam' 'Ireland' 'Scotland' 'Hungary' 'Holand-Netherlands' nan]\n"
     ]
    }
   ],
   "source": [
    "import pandas as pd\n",
    "\n",
    "# Load the saved datasets from the CSV files\n",
    "X_train = pd.read_csv(\"../data/X_train.csv\", index_col=0)  # Use the first column as index\n",
    "y_train = pd.read_csv(\"../data/y_train.csv\", index_col=0)  # Use the first column as index\n",
    "X_test = pd.read_csv(\"../data/X_test.csv\", index_col=0)    # Use the first column as index\n",
    "y_test = pd.read_csv(\"../data/y_test.csv\", index_col=0)    # Use the first column as index"
   ]
  },
  {
   "cell_type": "markdown",
   "metadata": {},
   "source": [
    "The main challenges we have to contend with for this data are the missing data and the imbalanced data. Recall from the EDA that the missing values are stored as `?`, as shown by the code block below."
   ]
  },
  {
   "cell_type": "code",
   "execution_count": 6,
   "metadata": {},
   "outputs": [
    {
     "name": "stdout",
     "output_type": "stream",
     "text": [
      "Unique values in 'workclass':\n",
      " ['State-gov' 'Self-emp-not-inc' 'Private' 'Federal-gov' 'Local-gov'\n",
      " 'Self-emp-inc' '?' 'Without-pay' 'Never-worked' nan]\n",
      "\n",
      "Unique values in 'occupation':\n",
      " ['Adm-clerical' 'Exec-managerial' 'Handlers-cleaners' 'Prof-specialty'\n",
      " 'Other-service' 'Sales' 'Craft-repair' 'Transport-moving'\n",
      " 'Farming-fishing' 'Tech-support' 'Protective-serv' 'Machine-op-inspct'\n",
      " '?' 'Priv-house-serv' 'Armed-Forces' nan]\n",
      "\n",
      "Unique values in 'native-country':\n",
      " ['United-States' 'Cuba' 'Jamaica' 'India' '?' 'Mexico' 'Puerto-Rico'\n",
      " 'England' 'Canada' 'Germany' 'Iran' 'Philippines' 'Italy' 'Columbia'\n",
      " 'Cambodia' 'Thailand' 'Ecuador' 'Laos' 'Taiwan' 'Haiti' 'Portugal'\n",
      " 'El-Salvador' 'Poland' 'France' 'South' 'Dominican-Republic' 'Honduras'\n",
      " 'Guatemala' 'China' 'Japan' 'Yugoslavia' 'Peru'\n",
      " 'Outlying-US(Guam-USVI-etc)' 'Trinadad&Tobago' 'Nicaragua' 'Greece'\n",
      " 'Hong' 'Vietnam' 'Ireland' 'Scotland' 'Hungary' 'Holand-Netherlands' nan]\n"
     ]
    }
   ],
   "source": [
    "# Check the unique values in the columns with missing data\n",
    "print(\"Unique values in 'workclass':\\n\", X_train['workclass'].unique())\n",
    "print(\"\\nUnique values in 'occupation':\\n\", X_train['occupation'].unique())\n",
    "print(\"\\nUnique values in 'native-country':\\n\", X_train['native-country'].unique())"
   ]
  },
  {
   "cell_type": "markdown",
   "metadata": {},
   "source": [
    "To contend with the missing data, we will use the following strategies:\n",
    "- Treating missingness as its own category\n",
    "- Surrogate splits\n",
    "- Imputation.\n",
    "\n",
    "To contend with the imbalanced data, we will use SMOTE.\n",
    "\n",
    "We will explain each of these strategies as we use them in the modelling. "
   ]
  },
  {
   "cell_type": "markdown",
   "metadata": {},
   "source": [
    "# Deciding on a Performance Measure\n",
    "\n"
   ]
  }
 ],
 "metadata": {
  "kernelspec": {
   "display_name": "Python 3 (ipykernel)",
   "language": "python",
   "name": "python3"
  },
  "language_info": {
   "codemirror_mode": {
    "name": "ipython",
    "version": 3
   },
   "file_extension": ".py",
   "mimetype": "text/x-python",
   "name": "python",
   "nbconvert_exporter": "python",
   "pygments_lexer": "ipython3",
   "version": "3.11.10"
  }
 },
 "nbformat": 4,
 "nbformat_minor": 2
}
