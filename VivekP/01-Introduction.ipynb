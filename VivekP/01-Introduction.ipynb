{
 "cells": [
  {
   "cell_type": "markdown",
   "metadata": {},
   "source": [
    "# Introduction\n",
    "\n",
    "In this group project, we explore a classification problem involving income data. The project will involve exploring several models, such as discriminant analysis, decision trees and logistic regression. The model performance will be assessed on left-out test data which will be chosen to answer a particular scientific question. We then explore several performance metrics, such as ROC curves, accuracy, precision and recall. We then select, test, and agree upon a performance metric to assess the models. The performance metric will be chosen such that it will lead to real-world generalisability. We will then compare the models with the chosen performance metric and reflect on the limitations and strengths of each method.\n",
    "\n",
    "The project is structured as follows.\n",
    "1. Introduction\n",
    "2. Choice of Problem: In this section, we justify our choice of problem.\n",
    "3. Exploratory Data Analysis: In this section, we perform EDA to learn about the dataset and find an interesting scientific question to answer.\n",
    "4. Modelling: Each member develops a model. The models we chose to explore are discriminant analysis, logistic regression and decision trees. We also investigate performance metrics to evaluate the models.\n",
    "5. Comparison: We bring the results together, reflecting on each model's strengths and weaknesses.\n",
    "\n",
    "LOOK AT 03 2.2.3!!!!!!!! (MISSINGNESS IMPUTATION ETC )"
   ]
  }
 ],
 "metadata": {
  "language_info": {
   "name": "python"
  }
 },
 "nbformat": 4,
 "nbformat_minor": 2
}
