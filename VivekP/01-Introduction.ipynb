{
 "cells": [
  {
   "cell_type": "markdown",
   "metadata": {},
   "source": [
    "# Introduction\n",
    "\n",
    "In this group project, we explore a classification problem involving income data. The project will involve exploring several models, such as decision trees, *ADD MORE AS PEOPLE CHOOSE THEIR MODELS*. The model performance will be assessed on left-out test data, chosen to answer a particular scientific question. We then explore several performance metrics, such as ROC curves, accuracy, precision and recall. We then select, test, and agree upon a performance metric to assess the models. The performance metric will be chosen such that it will lead to real-world generalisability. We will then compare the models with the chosen performance metric and reflect on the limitations and strengths of each method.\n",
    "\n",
    "The project is structured as follows.\n",
    "1. Introduction\n",
    "2. Choice of Problem: In this document we justify our choice of problem.\n",
    "3. Modelling: Each member develops a model.\n",
    "    3.1. Decision Trees.\n",
    "4. Performance metrics: We investigate performance metrics to evaluate the models.\n",
    "5. Comparison: We bring the results together, reflecting on each model's strengths and weaknesses."
   ]
  }
 ],
 "metadata": {
  "language_info": {
   "name": "python"
  }
 },
 "nbformat": 4,
 "nbformat_minor": 2
}
