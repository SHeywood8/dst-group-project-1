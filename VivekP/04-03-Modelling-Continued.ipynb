{
 "cells": [
  {
   "cell_type": "markdown",
   "id": "5fb9c44d",
   "metadata": {},
   "source": [
    "# Modelling with Ensembles\n",
    "\n",
    "We have tried to investigate the use of a single classification tree, pushing it as far as we could. We did cost-complexity pruning and found the best parameter $\\alpha$ by cross-validation. We investigated the use of SMOTE to tackle imbalance and the use of several methods to deal with missingness.\n",
    "\n",
    "We have seen that single trees have limitations to how well they can perform. Hence, we now consider the use of random forests (Section 04-03.1) and gradient boosted trees (Section 04-03.2)."
   ]
  }
 ],
 "metadata": {
  "kernelspec": {
   "display_name": "Python 3 (ipykernel)",
   "language": "python",
   "name": "python3"
  },
  "language_info": {
   "codemirror_mode": {
    "name": "ipython",
    "version": 3
   },
   "file_extension": ".py",
   "mimetype": "text/x-python",
   "name": "python",
   "nbconvert_exporter": "python",
   "pygments_lexer": "ipython3",
   "version": "3.11.10"
  }
 },
 "nbformat": 4,
 "nbformat_minor": 5
}
