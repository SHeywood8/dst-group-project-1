{
 "cells": [
  {
   "cell_type": "markdown",
   "id": "1a5996b1-0657-457d-b41c-2950223b1312",
   "metadata": {},
   "source": [
    "# Quadratic Discriminant Analysis"
   ]
  },
  {
   "cell_type": "markdown",
   "id": "589adc34-2a91-4710-b2b1-c8b3bb412d76",
   "metadata": {},
   "source": [
    "In this section, we will investigate the use of quadratic discriminant analysis (QDA) to model and classify the income data.\n",
    "\n",
    "First, we give an overview of QDA, including its history, mathematical theory and common applications. We conclude with an explanation of QDA in relation to our classification problem."
   ]
  },
  {
   "cell_type": "markdown",
   "id": "e77cada9-c93b-4667-b2ff-f99ef77c8b32",
   "metadata": {},
   "source": []
  },
  {
   "cell_type": "markdown",
   "id": "e3046555-c6d6-45dd-a5d8-e5d016e679a9",
   "metadata": {},
   "source": [
    "## Overview"
   ]
  },
  {
   "cell_type": "markdown",
   "id": "91f5cd54-375a-4bad-8e84-7d4915f0a57a",
   "metadata": {},
   "source": [
    "## QDA: The Algorithm"
   ]
  },
  {
   "cell_type": "markdown",
   "id": "ef24f148-9ccc-4e3a-a114-5bb4eff98544",
   "metadata": {},
   "source": []
  },
  {
   "cell_type": "markdown",
   "id": "50dbe500-98c8-4967-aa9b-b7269abfaf18",
   "metadata": {},
   "source": [
    "## History of QDA"
   ]
  },
  {
   "cell_type": "markdown",
   "id": "6cdabde0-eca5-47f8-8900-7226c7bb0466",
   "metadata": {},
   "source": []
  },
  {
   "cell_type": "markdown",
   "id": "8f3e1a74-05b2-4274-ad7b-be77f258428c",
   "metadata": {},
   "source": []
  },
  {
   "cell_type": "markdown",
   "id": "c73839b8-9584-4a90-a90c-c343a5026da9",
   "metadata": {},
   "source": [
    "## Mathematical Theory"
   ]
  },
  {
   "cell_type": "markdown",
   "id": "eb3165be-5422-41ea-b3fd-2080dc53d5bc",
   "metadata": {},
   "source": []
  },
  {
   "cell_type": "markdown",
   "id": "6a212e11-54da-4b57-b296-f2dae68a0715",
   "metadata": {},
   "source": []
  },
  {
   "cell_type": "markdown",
   "id": "6c5bcd4b-0267-4448-b933-d102f66ad99f",
   "metadata": {},
   "source": [
    "## Applications"
   ]
  },
  {
   "cell_type": "markdown",
   "id": "de7ef3e6-b41a-464c-975e-a76631154018",
   "metadata": {},
   "source": []
  },
  {
   "cell_type": "markdown",
   "id": "12e5e54c-f429-4c13-9046-c5e8502bb725",
   "metadata": {},
   "source": []
  },
  {
   "cell_type": "markdown",
   "id": "325819d9-4dff-4589-84ed-760de19f2f0e",
   "metadata": {},
   "source": [
    "## Advantages of QDA"
   ]
  },
  {
   "cell_type": "markdown",
   "id": "cfc86081-3c9d-40bd-b02e-244241a94854",
   "metadata": {},
   "source": []
  },
  {
   "cell_type": "markdown",
   "id": "352e0e9d-082c-40b6-b033-38b7873ac43f",
   "metadata": {},
   "source": []
  },
  {
   "cell_type": "markdown",
   "id": "71b89340-8ed9-4d7e-a890-445c9acc5ce3",
   "metadata": {},
   "source": [
    "## Disadvantages of QDA"
   ]
  },
  {
   "cell_type": "markdown",
   "id": "41580dcb-9f19-4ff3-be1c-c79f122d7f21",
   "metadata": {},
   "source": []
  },
  {
   "cell_type": "markdown",
   "id": "7b89f98d-8843-4868-b786-89d7337db334",
   "metadata": {},
   "source": []
  },
  {
   "cell_type": "markdown",
   "id": "b117faed-5df6-4688-8740-b708e64b166e",
   "metadata": {},
   "source": [
    "## QDA for Our Problem"
   ]
  },
  {
   "cell_type": "markdown",
   "id": "8a3aab7c-d136-44c2-afcc-0f6ea8e6057d",
   "metadata": {},
   "source": []
  },
  {
   "cell_type": "markdown",
   "id": "151b8aba-25d5-4340-b43d-ec2effb95c14",
   "metadata": {},
   "source": []
  },
  {
   "cell_type": "markdown",
   "id": "30491b8d-a42c-4367-a193-0c6cc4773fcd",
   "metadata": {},
   "source": [
    "## References"
   ]
  },
  {
   "cell_type": "markdown",
   "id": "260f5482-21cd-48a4-a2ba-9965f62ce7f0",
   "metadata": {},
   "source": []
  }
 ],
 "metadata": {
  "kernelspec": {
   "display_name": "Python 3 (ipykernel)",
   "language": "python",
   "name": "python3"
  },
  "language_info": {
   "codemirror_mode": {
    "name": "ipython",
    "version": 3
   },
   "file_extension": ".py",
   "mimetype": "text/x-python",
   "name": "python",
   "nbconvert_exporter": "python",
   "pygments_lexer": "ipython3",
   "version": "3.11.4"
  }
 },
 "nbformat": 4,
 "nbformat_minor": 5
}
