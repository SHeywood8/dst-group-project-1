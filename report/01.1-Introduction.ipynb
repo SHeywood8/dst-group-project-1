{
 "cells": [
  {
   "cell_type": "markdown",
   "metadata": {},
   "source": [
    "# Introduction\n",
    "\n",
    "In this group project, we explore a classification problem involving income data. The income data is sourced from the UCI Machine Learning Repository [1]. This data is obtained from a US Census, and contains information about whether the income of individuals exceed $50K or not. The project will involve exploring several models, such as discriminant analysis, decision trees and logistic regression. The model performance will be assessed on left-out test data. The left-out data is chosen to answer a particular scientific question. This question will be motivated by our EDA. \n",
    "\n",
    "We then explore several performance metrics, such as ROC curves, accuracy, precision and recall. We then select, test, and agree upon a performance metric to assess the models. The performance metric will be chosen such that it will lead to real-world generalisability. We will then compare the models with the chosen performance metric and reflect on the limitations and strengths of each method.\n",
    "\n",
    "The project is structured as follows.\n",
    "1. Introduction: We explain how we found our data and justify our choice of problem.\n",
    "2. EDA: We perform exploratory data analysis on the data with the aim of understanding the data and finding an interesting scientific question.\n",
    "3. Modelling: We each explore a model, and present our findings on the models. The models we chose to explore are discriminant analysis, logistic regression and decision trees. We also look at methods to address imbalanced data (SMOTE in Section 06.2.3, 06.3) and methods to address missing data, such as surrogate splits and imputation (Section 06.2, 0.6.3). We also investigate performance metrics to evaluate the models.\n",
    "4. Comparison: We bring the results together, reflecting on each model's strengths and weaknesses.\n",
    "\n",
    "# References\n",
    "\n",
    "[1] UCI Machine Learning Repository: https://archive.ics.uci.edu/dataset/2/adult"
   ]
  }
 ],
 "metadata": {
  "language_info": {
   "name": "python"
  }
 },
 "nbformat": 4,
 "nbformat_minor": 2
}
