{
 "cells": [
  {
   "cell_type": "markdown",
   "id": "1f9a1a75-dece-4feb-aa49-e85716a17034",
   "metadata": {},
   "source": [
    "# Logistic Regression\n",
    "\n",
    "Logistic Regression is a statistical tool used to classify data based on probabilities, which are predicted from the training data. Our problem is a simple binary classification problem so the regression model will calculate the probability that each unseen case belongs to either of the possible outcomes.\n",
    "\n",
    "We starting by importing our required modules."
   ]
  },
  {
   "cell_type": "code",
   "execution_count": 1,
   "id": "58f806ce-3882-46d2-ab97-283d5f1e17da",
   "metadata": {},
   "outputs": [],
   "source": [
    "# pip install -r requirements.txt # This can be used to install the necessary modules if needed."
   ]
  },
  {
   "cell_type": "code",
   "execution_count": 2,
   "id": "4376da4c-66c3-4cae-b41e-7459a17ff60e",
   "metadata": {},
   "outputs": [],
   "source": [
    "import numpy as np\n",
    "import pandas as pd\n",
    "import matplotlib.pyplot as plt\n",
    "import statsmodels.api as sm\n",
    "from sklearn import datasets, linear_model\n",
    "from sklearn.metrics import classification_report,confusion_matrix,roc_curve,auc\n",
    "from sklearn.preprocessing import StandardScaler\n",
    "from sklearn.pipeline import make_pipeline\n",
    "from sklearn.model_selection import cross_val_score"
   ]
  },
  {
   "cell_type": "markdown",
   "id": "454d97f7-5dc7-4461-abd3-c1a17302ebbe",
   "metadata": {},
   "source": [
    "Next we will import the data, this is done by reading it directly from the data folder in the repository."
   ]
  },
  {
   "cell_type": "code",
   "execution_count": 3,
   "id": "7173df8e-830b-48d3-9352-467bc5b88fd0",
   "metadata": {},
   "outputs": [
    {
     "data": {
      "text/html": [
       "<div>\n",
       "<style scoped>\n",
       "    .dataframe tbody tr th:only-of-type {\n",
       "        vertical-align: middle;\n",
       "    }\n",
       "\n",
       "    .dataframe tbody tr th {\n",
       "        vertical-align: top;\n",
       "    }\n",
       "\n",
       "    .dataframe thead th {\n",
       "        text-align: right;\n",
       "    }\n",
       "</style>\n",
       "<table border=\"1\" class=\"dataframe\">\n",
       "  <thead>\n",
       "    <tr style=\"text-align: right;\">\n",
       "      <th></th>\n",
       "      <th>age</th>\n",
       "      <th>workclass</th>\n",
       "      <th>fnlwgt</th>\n",
       "      <th>education</th>\n",
       "      <th>education-num</th>\n",
       "      <th>marital-status</th>\n",
       "      <th>occupation</th>\n",
       "      <th>relationship</th>\n",
       "      <th>race</th>\n",
       "      <th>sex</th>\n",
       "      <th>capital-gain</th>\n",
       "      <th>capital-loss</th>\n",
       "      <th>hours-per-week</th>\n",
       "      <th>native-country</th>\n",
       "      <th>income</th>\n",
       "    </tr>\n",
       "  </thead>\n",
       "  <tbody>\n",
       "    <tr>\n",
       "      <th>0</th>\n",
       "      <td>39</td>\n",
       "      <td>State-gov</td>\n",
       "      <td>77516</td>\n",
       "      <td>Bachelors</td>\n",
       "      <td>13</td>\n",
       "      <td>Never-married</td>\n",
       "      <td>Adm-clerical</td>\n",
       "      <td>Not-in-family</td>\n",
       "      <td>White</td>\n",
       "      <td>Male</td>\n",
       "      <td>2174</td>\n",
       "      <td>0</td>\n",
       "      <td>40</td>\n",
       "      <td>United-States</td>\n",
       "      <td>&lt;=50K</td>\n",
       "    </tr>\n",
       "    <tr>\n",
       "      <th>1</th>\n",
       "      <td>50</td>\n",
       "      <td>Self-emp-not-inc</td>\n",
       "      <td>83311</td>\n",
       "      <td>Bachelors</td>\n",
       "      <td>13</td>\n",
       "      <td>Married-civ-spouse</td>\n",
       "      <td>Exec-managerial</td>\n",
       "      <td>Husband</td>\n",
       "      <td>White</td>\n",
       "      <td>Male</td>\n",
       "      <td>0</td>\n",
       "      <td>0</td>\n",
       "      <td>13</td>\n",
       "      <td>United-States</td>\n",
       "      <td>&lt;=50K</td>\n",
       "    </tr>\n",
       "    <tr>\n",
       "      <th>2</th>\n",
       "      <td>38</td>\n",
       "      <td>Private</td>\n",
       "      <td>215646</td>\n",
       "      <td>HS-grad</td>\n",
       "      <td>9</td>\n",
       "      <td>Divorced</td>\n",
       "      <td>Handlers-cleaners</td>\n",
       "      <td>Not-in-family</td>\n",
       "      <td>White</td>\n",
       "      <td>Male</td>\n",
       "      <td>0</td>\n",
       "      <td>0</td>\n",
       "      <td>40</td>\n",
       "      <td>United-States</td>\n",
       "      <td>&lt;=50K</td>\n",
       "    </tr>\n",
       "    <tr>\n",
       "      <th>3</th>\n",
       "      <td>53</td>\n",
       "      <td>Private</td>\n",
       "      <td>234721</td>\n",
       "      <td>11th</td>\n",
       "      <td>7</td>\n",
       "      <td>Married-civ-spouse</td>\n",
       "      <td>Handlers-cleaners</td>\n",
       "      <td>Husband</td>\n",
       "      <td>Black</td>\n",
       "      <td>Male</td>\n",
       "      <td>0</td>\n",
       "      <td>0</td>\n",
       "      <td>40</td>\n",
       "      <td>United-States</td>\n",
       "      <td>&lt;=50K</td>\n",
       "    </tr>\n",
       "    <tr>\n",
       "      <th>4</th>\n",
       "      <td>28</td>\n",
       "      <td>Private</td>\n",
       "      <td>338409</td>\n",
       "      <td>Bachelors</td>\n",
       "      <td>13</td>\n",
       "      <td>Married-civ-spouse</td>\n",
       "      <td>Prof-specialty</td>\n",
       "      <td>Wife</td>\n",
       "      <td>Black</td>\n",
       "      <td>Female</td>\n",
       "      <td>0</td>\n",
       "      <td>0</td>\n",
       "      <td>40</td>\n",
       "      <td>Cuba</td>\n",
       "      <td>&lt;=50K</td>\n",
       "    </tr>\n",
       "  </tbody>\n",
       "</table>\n",
       "</div>"
      ],
      "text/plain": [
       "   age         workclass  fnlwgt  education  education-num  \\\n",
       "0   39         State-gov   77516  Bachelors             13   \n",
       "1   50  Self-emp-not-inc   83311  Bachelors             13   \n",
       "2   38           Private  215646    HS-grad              9   \n",
       "3   53           Private  234721       11th              7   \n",
       "4   28           Private  338409  Bachelors             13   \n",
       "\n",
       "       marital-status         occupation   relationship   race     sex  \\\n",
       "0       Never-married       Adm-clerical  Not-in-family  White    Male   \n",
       "1  Married-civ-spouse    Exec-managerial        Husband  White    Male   \n",
       "2            Divorced  Handlers-cleaners  Not-in-family  White    Male   \n",
       "3  Married-civ-spouse  Handlers-cleaners        Husband  Black    Male   \n",
       "4  Married-civ-spouse     Prof-specialty           Wife  Black  Female   \n",
       "\n",
       "   capital-gain  capital-loss  hours-per-week native-country income  \n",
       "0          2174             0              40  United-States  <=50K  \n",
       "1             0             0              13  United-States  <=50K  \n",
       "2             0             0              40  United-States  <=50K  \n",
       "3             0             0              40  United-States  <=50K  \n",
       "4             0             0              40           Cuba  <=50K  "
      ]
     },
     "execution_count": 3,
     "metadata": {},
     "output_type": "execute_result"
    }
   ],
   "source": [
    "# Load the saved datasets from the CSV files\n",
    "X_train = pd.read_csv(\"../data/X_train.csv\", index_col=0)  # Use the first column as index\n",
    "y_train = pd.read_csv(\"../data/y_train.csv\", index_col=0)  # Use the first column as index\n",
    "X_test = pd.read_csv(\"../data/X_test.csv\", index_col=0)    # Use the first column as index\n",
    "y_test = pd.read_csv(\"../data/y_test.csv\", index_col=0)    # Use the first column as index\n",
    "\n",
    "# Display the first few rows of the training datasets to ensure it has been loaded correctly\n",
    "pd.DataFrame.join(X_train,y_train).head()"
   ]
  },
  {
   "cell_type": "markdown",
   "id": "50d17262-c435-4203-80a5-bd5ba5df2b70",
   "metadata": {},
   "source": [
    "## Cleaning The Data\n",
    "\n",
    "Now we will need to do some cleanup of the data. For Logistic Regression we need all of the features to be numbers, but currently we have a mix of both int64 and object data."
   ]
  },
  {
   "cell_type": "code",
   "execution_count": 4,
   "id": "ac49c807-3779-4860-8c7a-c2f1b521ef70",
   "metadata": {},
   "outputs": [
    {
     "data": {
      "text/plain": [
       "age                int64\n",
       "workclass         object\n",
       "fnlwgt             int64\n",
       "education         object\n",
       "education-num      int64\n",
       "marital-status    object\n",
       "occupation        object\n",
       "relationship      object\n",
       "race              object\n",
       "sex               object\n",
       "capital-gain       int64\n",
       "capital-loss       int64\n",
       "hours-per-week     int64\n",
       "native-country    object\n",
       "dtype: object"
      ]
     },
     "execution_count": 4,
     "metadata": {},
     "output_type": "execute_result"
    }
   ],
   "source": [
    "X_train.dtypes"
   ]
  },
  {
   "cell_type": "markdown",
   "id": "80cd78fd-dc78-4d21-97dc-73fbc2658f98",
   "metadata": {},
   "source": [
    "So we factorise the features, converting each different string for the column into an integer, and storing the key as a list for later use if necessary. We have to be careful for this though as if we factorize the testing and training data separately, there may be data which appears in one dataset but not the other, and so the keys will end up being different. To deal with this we briefly concatinate the dataframes, then factorise the data, then convert them back. We need to do this for both the features and the targets."
   ]
  },
  {
   "cell_type": "code",
   "execution_count": 5,
   "id": "3359bbf2-321a-41c7-a152-a198c6885ef7",
   "metadata": {},
   "outputs": [
    {
     "data": {
      "text/plain": [
       "age               int64\n",
       "workclass         int64\n",
       "fnlwgt            int64\n",
       "education         int64\n",
       "education-num     int64\n",
       "marital-status    int64\n",
       "occupation        int64\n",
       "relationship      int64\n",
       "race              int64\n",
       "sex               int64\n",
       "capital-gain      int64\n",
       "capital-loss      int64\n",
       "hours-per-week    int64\n",
       "native-country    int64\n",
       "dtype: object"
      ]
     },
     "execution_count": 5,
     "metadata": {},
     "output_type": "execute_result"
    }
   ],
   "source": [
    "# Concatinate the datasets, keeping the positional data\n",
    "X_all = pd.concat({'X_train':X_train, 'X_test':X_test})\n",
    "\n",
    "# Then we factorize\n",
    "objects = ['workclass','education','marital-status','occupation','relationship','race','sex','native-country']\n",
    "keys = [0]*len(objects)\n",
    "\n",
    "for i in range(len(objects)):\n",
    "    X_all[objects[i]], keys[i] = pd.factorize(X_all[objects[i]])\n",
    "\n",
    "# Then we return the original test train split\n",
    "X_train = X_all.loc['X_train']\n",
    "X_test = X_all.loc['X_test']\n",
    "\n",
    "# And finally check that the data is in the correct form\n",
    "X_train.dtypes"
   ]
  },
  {
   "cell_type": "code",
   "execution_count": 6,
   "id": "86731973-e62e-40ef-8b2f-1076ea123cef",
   "metadata": {},
   "outputs": [
    {
     "data": {
      "text/plain": [
       "income    object\n",
       "dtype: object"
      ]
     },
     "execution_count": 6,
     "metadata": {},
     "output_type": "execute_result"
    }
   ],
   "source": [
    "y_train.dtypes # We see that the target dataset has the same problem."
   ]
  },
  {
   "cell_type": "code",
   "execution_count": 7,
   "id": "27d437eb-010e-405f-aa68-cc06638aedb5",
   "metadata": {},
   "outputs": [
    {
     "data": {
      "text/plain": [
       "income    int64\n",
       "dtype: object"
      ]
     },
     "execution_count": 7,
     "metadata": {},
     "output_type": "execute_result"
    }
   ],
   "source": [
    "# Concatinate the datasets, keeping the positional data\n",
    "y_all = pd.concat({'y_train':y_train, 'y_test':y_test})\n",
    "\n",
    "# Then we factorize\n",
    "y_all['income'], income_key = pd.factorize(y_all['income'])\n",
    "\n",
    "# Then we return the original test train split\n",
    "y_train = y_all.loc['y_train']\n",
    "y_test = y_all.loc['y_test']\n",
    "\n",
    "y_train.dtypes"
   ]
  },
  {
   "cell_type": "markdown",
   "id": "b6911d05-e988-4d2d-b199-a7fccf6d6b5c",
   "metadata": {},
   "source": [
    "## Making The Model\n",
    "\n",
    "We now make the model. We use the versatile scikit-learn module for this, which has many built in functions that will be helpful for our analysis."
   ]
  },
  {
   "cell_type": "code",
   "execution_count": 8,
   "id": "9d473a81-a615-474d-a641-3ab375fd9a5a",
   "metadata": {},
   "outputs": [
    {
     "name": "stdout",
     "output_type": "stream",
     "text": [
      "0.7977321868557349\n",
      "0.7908028231142479\n"
     ]
    },
    {
     "name": "stderr",
     "output_type": "stream",
     "text": [
      "C:\\Users\\Sheri\\AppData\\Local\\Programs\\Python\\Python312\\Lib\\site-packages\\sklearn\\linear_model\\_logistic.py:469: ConvergenceWarning: lbfgs failed to converge (status=1):\n",
      "STOP: TOTAL NO. of ITERATIONS REACHED LIMIT.\n",
      "\n",
      "Increase the number of iterations (max_iter) or scale the data as shown in:\n",
      "    https://scikit-learn.org/stable/modules/preprocessing.html\n",
      "Please also refer to the documentation for alternative solver options:\n",
      "    https://scikit-learn.org/stable/modules/linear_model.html#logistic-regression\n",
      "  n_iter_i = _check_optimize_result(\n"
     ]
    }
   ],
   "source": [
    "# Create logistic regression object\n",
    "lr = linear_model.LogisticRegression(max_iter=300)\n",
    "\n",
    "# Train the model using the training sets\n",
    "lr.fit(X_train,y_train.values.ravel())\n",
    "\n",
    "# Make predictions using the testing set\n",
    "y_pred = lr.predict(X_test)\n",
    "\n",
    "# Score the model\n",
    "print(lr.score(X_train,y_train))\n",
    "print(lr.score(X_test,y_test))"
   ]
  },
  {
   "cell_type": "markdown",
   "id": "5ac12d1b-e6e7-4dfb-820a-ee9e352d0096",
   "metadata": {},
   "source": [
    "We see that we get a score of about 0.79, but also get a warning, encouraging the use of preprocessing the data. We will explore this now. The scaling that scikit-learn recommends is some simple transformations to get the data into the form of normally distributed data, with mean 0 and variance 1. The module has a built in function to do this. We also make use of the module's built in pipeline commands, which can apply a transformation to the data and then apply the model to it all in one command."
   ]
  },
  {
   "cell_type": "code",
   "execution_count": 9,
   "id": "3ed9b9c7-3da4-450a-9cae-7262ef9fc622",
   "metadata": {},
   "outputs": [
    {
     "name": "stdout",
     "output_type": "stream",
     "text": [
      "0.8258912857645698\n",
      "0.8201367445963829\n"
     ]
    }
   ],
   "source": [
    "# Create the pipeline. This scales the data and then applies the regression model onto it.\n",
    "pipe = make_pipeline(StandardScaler(), linear_model.LogisticRegression())\n",
    "\n",
    "# Train the model on the training data and then use that to predict on the test data, as before.\n",
    "pipe.fit(X_train, y_train.values.ravel())\n",
    "y_pred2 = pipe.predict(X_test)\n",
    "\n",
    "# Score the model\n",
    "trainscore = pipe.score(X_train, y_train)\n",
    "print(trainscore)\n",
    "testscore = pipe.score(X_test, y_test)\n",
    "print(testscore)"
   ]
  },
  {
   "cell_type": "markdown",
   "id": "8c868923-2212-45f8-b9f7-4f6cdc853c21",
   "metadata": {},
   "source": [
    "We see that this simple scaling has increased our accuracy to around 0.82. This may seem like a small improvement, but if we compare the ROC curves, we see that overall this actually represents a significant improvement. So moving forward we will use this scaled data."
   ]
  },
  {
   "cell_type": "code",
   "execution_count": 10,
   "id": "95421ce7-c7fd-48c3-9caf-442e236f25a7",
   "metadata": {},
   "outputs": [
    {
     "data": {
      "image/png": "[encoded data removed]",
      "text/plain": [
       "<Figure size 640x480 with 1 Axes>"
      ]
     },
     "metadata": {},
     "output_type": "display_data"
    }
   ],
   "source": [
    "def plot_roc(models : list, labels : list):\n",
    "    for model in models:\n",
    "        y_predprob = model.predict_proba(X_test)\n",
    "        fpr,tpr,_ = roc_curve(y_test,y_predprob[:,1])\n",
    "        plt.plot(fpr,tpr)\n",
    "    plt.plot([0,1],[0,1],'k--')\n",
    "    plt.xlabel('False positive rate')\n",
    "    plt.ylabel('True positive rate')\n",
    "    plt.title('ROC curve')\n",
    "    plt.legend(labels)\n",
    "\n",
    "plot_roc([lr,pipe],['No Preprocessing','Preprocessing'])"
   ]
  },
  {
   "cell_type": "markdown",
   "id": "dad470fe-b6b2-4f24-93e5-e9d0562bd91e",
   "metadata": {},
   "source": [
    "We can compare this score with a value known as the null accuracy, which is given by simply guessing the most common outcome as the prediction for each value. In our case we have:"
   ]
  },
  {
   "cell_type": "code",
   "execution_count": 11,
   "id": "ab62c655-836e-4bf1-83bc-6ece811cfb57",
   "metadata": {},
   "outputs": [
    {
     "data": {
      "text/plain": [
       "income\n",
       "0         6862\n",
       "1         2206\n",
       "Name: count, dtype: int64"
      ]
     },
     "execution_count": 11,
     "metadata": {},
     "output_type": "execute_result"
    }
   ],
   "source": [
    "y_test.value_counts()"
   ]
  },
  {
   "cell_type": "markdown",
   "id": "f3795321-c708-472e-bd8d-22ad2330caad",
   "metadata": {},
   "source": [
    "And so we see that the most common outcome is 0, and so we calculate the accuracy that we would predict by simple guessing 0 as every outcome:"
   ]
  },
  {
   "cell_type": "code",
   "execution_count": 12,
   "id": "08776dcc-23d2-486a-bd8c-31f973d5bf11",
   "metadata": {},
   "outputs": [
    {
     "name": "stdout",
     "output_type": "stream",
     "text": [
      "Null accuracy score: 0.7567\n",
      "Our training score: 0.8259\n",
      "Our testing score: 0.8201\n"
     ]
    }
   ],
   "source": [
    "null_accuracy = (6862/(6862+2206))\n",
    "\n",
    "print('Null accuracy score: {0:0.4f}'. format(null_accuracy))\n",
    "print('Our training score: {0:0.4f}'.format(trainscore))\n",
    "print('Our testing score: {0:0.4f}'.format(testscore))"
   ]
  },
  {
   "cell_type": "markdown",
   "id": "c2eada78-0c2d-480b-96b7-2fb738083e60",
   "metadata": {},
   "source": [
    "We see that our model does in fact perform better than the null accuracy, meaning that our model is working and predicting values correctly. However, our score is still not that high and we will explore a few ways of potentially improving this in the next document, however these attempts are largely unsuccessful, leading us to conclude that the model is not easily improvable. See the next document for more information.\n",
    "\n",
    "We will continue our investigation here, looking into the accuracy of the model, and answering the question that we decided on:\n",
    "\n",
    "- How does the proportion of high income individuals vary by sex?"
   ]
  },
  {
   "cell_type": "markdown",
   "id": "8923f682-4350-4b4c-bad5-5a381554df66",
   "metadata": {},
   "source": [
    "## Further Investigation\n",
    "\n",
    "One way to investigate the significance of the features is to look at the p-values for the respective feature. Scikit-learn does not provide this feature natively so we will use the statsmodels module for this part instead."
   ]
  },
  {
   "cell_type": "code",
   "execution_count": 13,
   "id": "2de58ca9-b8a4-40eb-b677-b48c69b22220",
   "metadata": {},
   "outputs": [
    {
     "name": "stdout",
     "output_type": "stream",
     "text": [
      "Optimization terminated successfully.\n",
      "         Current function value: 0.462815\n",
      "         Iterations 8\n",
      "                           Logit Regression Results                           \n",
      "==============================================================================\n",
      "Dep. Variable:                 income   No. Observations:                39774\n",
      "Model:                          Logit   Df Residuals:                    39760\n",
      "Method:                           MLE   Df Model:                           13\n",
      "Date:                Mon, 21 Oct 2024   Pseudo R-squ.:                  0.1573\n",
      "Time:                        11:39:40   Log-Likelihood:                -18408.\n",
      "converged:                       True   LL-Null:                       -21844.\n",
      "Covariance Type:            nonrobust   LLR p-value:                     0.000\n",
      "==================================================================================\n",
      "                     coef    std err          z      P>|z|      [0.025      0.975]\n",
      "----------------------------------------------------------------------------------\n",
      "age                0.4309      0.015     28.442      0.000       0.401       0.461\n",
      "workclass          0.1903      0.013     14.110      0.000       0.164       0.217\n",
      "fnlwgt             0.0396      0.013      3.061      0.002       0.014       0.065\n",
      "education          0.0698      0.014      4.987      0.000       0.042       0.097\n",
      "education-num      0.6557      0.015     44.024      0.000       0.626       0.685\n",
      "marital-status    -0.0857      0.016     -5.439      0.000      -0.117      -0.055\n",
      "occupation        -0.0968      0.014     -6.812      0.000      -0.125      -0.069\n",
      "relationship      -0.0294      0.015     -2.010      0.044      -0.058      -0.001\n",
      "race              -0.0651      0.014     -4.517      0.000      -0.093      -0.037\n",
      "sex               -0.3912      0.015    -25.707      0.000      -0.421      -0.361\n",
      "capital-gain       7.8873      0.092     85.651      0.000       7.707       8.068\n",
      "capital-loss       0.2539      0.012     21.615      0.000       0.231       0.277\n",
      "hours-per-week     0.2960      0.014     21.364      0.000       0.269       0.323\n",
      "native-country    -0.0149      0.014     -1.071      0.284      -0.042       0.012\n",
      "==================================================================================\n"
     ]
    }
   ],
   "source": [
    "# Once again scale the data\n",
    "scaler = StandardScaler()\n",
    "scaler.fit(X_train)\n",
    "X_train_scaled = pd.DataFrame(scaler.fit_transform(X_train),index=X_train.index,columns=X_train.columns)\n",
    "\n",
    "# Apply the model. Logit is Logistic Regression\n",
    "logit_model=sm.Logit(y_train,X_train_scaled)\n",
    "result=logit_model.fit()\n",
    "# Print a summary of the results\n",
    "print(result.summary())"
   ]
  },
  {
   "cell_type": "markdown",
   "id": "22a497b4-cc62-47f6-b8cb-0ca34c2a4f6f",
   "metadata": {},
   "source": [
    "The main takeaways from these p-values (the column titled P>|z|), is that native-country is not significant. Relationship also has a relatively high p-value, but as it falls under the usual threshold of p = 0.05, we still consider it important. Apart from those, all other features would be considered significant for the model.\n",
    "\n",
    "Looking at the 'sex' feature, the p-value suggests it does in fact have a significant impact on the yearly income but doesn't clue us in to how much or for if males or females are more likely to have a higher income. To give us an idea of that, we can look at the coefficient given by the model. We see that 'sex' has a coefficient of -0.3912. What this tells us is that for every unit increase in the 'sex' variable, the log-odds of the outcome decreases by 0.3912, assuming that the other predictor variables are held constant. If we look back to our key to see how the 'sex' feature was factorised, we see that 'male' was encoded as 0, and 'female' was encoded as 1:"
   ]
  },
  {
   "cell_type": "code",
   "execution_count": 14,
   "id": "7c011097-51c4-40e0-8fe1-792bdc77fbb0",
   "metadata": {},
   "outputs": [
    {
     "name": "stdout",
     "output_type": "stream",
     "text": [
      "Index(['Male', 'Female'], dtype='object')\n"
     ]
    }
   ],
   "source": [
    "print(keys[6])"
   ]
  },
  {
   "cell_type": "markdown",
   "id": "bf610bc7-6356-480b-9b95-0f49cf3bc753",
   "metadata": {},
   "source": [
    "Combining all this information, this model suggests that females have a 0.3912 lower log-odds to earn more than 50k a year compared to males. Converting this log odds to a probability, by calculating exp(-0.3912) = 0.676254..., we have that females are around 32.4% less likely than males to earn more than 50k a year, according to this model."
   ]
  },
  {
   "cell_type": "code",
   "execution_count": null,
   "id": "edff2a7a-245c-42b9-a387-a0324c13821e",
   "metadata": {},
   "outputs": [],
   "source": []
  }
 ],
 "metadata": {
  "kernelspec": {
   "display_name": "Python 3 (ipykernel)",
   "language": "python",
   "name": "python3"
  },
  "language_info": {
   "codemirror_mode": {
    "name": "ipython",
    "version": 3
   },
   "file_extension": ".py",
   "mimetype": "text/x-python",
   "name": "python",
   "nbconvert_exporter": "python",
   "pygments_lexer": "ipython3",
   "version": "3.12.5"
  }
 },
 "nbformat": 4,
 "nbformat_minor": 5
}
