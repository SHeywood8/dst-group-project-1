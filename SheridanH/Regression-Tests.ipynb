{
 "cells": [
  {
   "cell_type": "code",
   "execution_count": 2,
   "id": "67d05c8f-23a8-4016-8cda-b53a5511f375",
   "metadata": {},
   "outputs": [
    {
     "name": "stdout",
     "output_type": "stream",
     "text": [
      "Requirement already satisfied: numpy in c:\\users\\sheri\\appdata\\local\\programs\\python\\python311\\lib\\site-packages (from -r requirements.txt (line 1)) (1.26.4)Note: you may need to restart the kernel to use updated packages.\n",
      "\n",
      "Requirement already satisfied: pandas in c:\\users\\sheri\\appdata\\local\\programs\\python\\python311\\lib\\site-packages (from -r requirements.txt (line 2)) (2.2.3)\n",
      "Requirement already satisfied: matplotlib in c:\\users\\sheri\\appdata\\local\\programs\\python\\python311\\lib\\site-packages (from -r requirements.txt (line 3)) (3.9.2)\n",
      "Requirement already satisfied: seaborn in c:\\users\\sheri\\appdata\\local\\programs\\python\\python311\\lib\\site-packages (from -r requirements.txt (line 4)) (0.13.2)\n",
      "Requirement already satisfied: ucimlrepo in c:\\users\\sheri\\appdata\\local\\programs\\python\\python311\\lib\\site-packages (from -r requirements.txt (line 5)) (0.0.7)\n",
      "Requirement already satisfied: scikit-learn in c:\\users\\sheri\\appdata\\local\\programs\\python\\python311\\lib\\site-packages (from -r requirements.txt (line 6)) (1.5.2)\n",
      "Requirement already satisfied: ISLP in c:\\users\\sheri\\appdata\\local\\programs\\python\\python311\\lib\\site-packages (from -r requirements.txt (line 7)) (0.4.0)\n",
      "Requirement already satisfied: python-dateutil>=2.8.2 in c:\\users\\sheri\\appdata\\local\\programs\\python\\python311\\lib\\site-packages (from pandas->-r requirements.txt (line 2)) (2.9.0.post0)\n",
      "Requirement already satisfied: pytz>=2020.1 in c:\\users\\sheri\\appdata\\local\\programs\\python\\python311\\lib\\site-packages (from pandas->-r requirements.txt (line 2)) (2024.2)\n",
      "Requirement already satisfied: tzdata>=2022.7 in c:\\users\\sheri\\appdata\\local\\programs\\python\\python311\\lib\\site-packages (from pandas->-r requirements.txt (line 2)) (2024.2)\n",
      "Requirement already satisfied: contourpy>=1.0.1 in c:\\users\\sheri\\appdata\\local\\programs\\python\\python311\\lib\\site-packages (from matplotlib->-r requirements.txt (line 3)) (1.3.0)\n",
      "Requirement already satisfied: cycler>=0.10 in c:\\users\\sheri\\appdata\\local\\programs\\python\\python311\\lib\\site-packages (from matplotlib->-r requirements.txt (line 3)) (0.12.1)\n",
      "Requirement already satisfied: fonttools>=4.22.0 in c:\\users\\sheri\\appdata\\local\\programs\\python\\python311\\lib\\site-packages (from matplotlib->-r requirements.txt (line 3)) (4.54.1)\n",
      "Requirement already satisfied: kiwisolver>=1.3.1 in c:\\users\\sheri\\appdata\\local\\programs\\python\\python311\\lib\\site-packages (from matplotlib->-r requirements.txt (line 3)) (1.4.7)\n",
      "Requirement already satisfied: packaging>=20.0 in c:\\users\\sheri\\appdata\\local\\programs\\python\\python311\\lib\\site-packages (from matplotlib->-r requirements.txt (line 3)) (24.1)\n",
      "Requirement already satisfied: pillow>=8 in c:\\users\\sheri\\appdata\\local\\programs\\python\\python311\\lib\\site-packages (from matplotlib->-r requirements.txt (line 3)) (11.0.0)\n",
      "Requirement already satisfied: pyparsing>=2.3.1 in c:\\users\\sheri\\appdata\\local\\programs\\python\\python311\\lib\\site-packages (from matplotlib->-r requirements.txt (line 3)) (3.2.0)\n",
      "Requirement already satisfied: certifi>=2020.12.5 in c:\\users\\sheri\\appdata\\local\\programs\\python\\python311\\lib\\site-packages (from ucimlrepo->-r requirements.txt (line 5)) (2024.8.30)\n",
      "Requirement already satisfied: scipy>=1.6.0 in c:\\users\\sheri\\appdata\\local\\programs\\python\\python311\\lib\\site-packages (from scikit-learn->-r requirements.txt (line 6)) (1.11.4)\n",
      "Requirement already satisfied: joblib>=1.2.0 in c:\\users\\sheri\\appdata\\local\\programs\\python\\python311\\lib\\site-packages (from scikit-learn->-r requirements.txt (line 6)) (1.4.2)\n",
      "Requirement already satisfied: threadpoolctl>=3.1.0 in c:\\users\\sheri\\appdata\\local\\programs\\python\\python311\\lib\\site-packages (from scikit-learn->-r requirements.txt (line 6)) (3.5.0)\n",
      "Requirement already satisfied: lxml in c:\\users\\sheri\\appdata\\local\\programs\\python\\python311\\lib\\site-packages (from ISLP->-r requirements.txt (line 7)) (5.3.0)\n",
      "Requirement already satisfied: statsmodels>=0.13 in c:\\users\\sheri\\appdata\\local\\programs\\python\\python311\\lib\\site-packages (from ISLP->-r requirements.txt (line 7)) (0.14.4)\n",
      "Requirement already satisfied: lifelines in c:\\users\\sheri\\appdata\\local\\programs\\python\\python311\\lib\\site-packages (from ISLP->-r requirements.txt (line 7)) (0.29.0)\n",
      "Requirement already satisfied: pygam in c:\\users\\sheri\\appdata\\local\\programs\\python\\python311\\lib\\site-packages (from ISLP->-r requirements.txt (line 7)) (0.9.1)\n",
      "Requirement already satisfied: torch in c:\\users\\sheri\\appdata\\local\\programs\\python\\python311\\lib\\site-packages (from ISLP->-r requirements.txt (line 7)) (2.5.0)\n",
      "Requirement already satisfied: pytorch-lightning in c:\\users\\sheri\\appdata\\local\\programs\\python\\python311\\lib\\site-packages (from ISLP->-r requirements.txt (line 7)) (2.4.0)\n",
      "Requirement already satisfied: torchmetrics in c:\\users\\sheri\\appdata\\local\\programs\\python\\python311\\lib\\site-packages (from ISLP->-r requirements.txt (line 7)) (1.4.3)\n",
      "Requirement already satisfied: six>=1.5 in c:\\users\\sheri\\appdata\\local\\programs\\python\\python311\\lib\\site-packages (from python-dateutil>=2.8.2->pandas->-r requirements.txt (line 2)) (1.16.0)\n",
      "Requirement already satisfied: patsy>=0.5.6 in c:\\users\\sheri\\appdata\\local\\programs\\python\\python311\\lib\\site-packages (from statsmodels>=0.13->ISLP->-r requirements.txt (line 7)) (0.5.6)\n",
      "Requirement already satisfied: autograd>=1.5 in c:\\users\\sheri\\appdata\\local\\programs\\python\\python311\\lib\\site-packages (from lifelines->ISLP->-r requirements.txt (line 7)) (1.7.0)\n",
      "Requirement already satisfied: autograd-gamma>=0.3 in c:\\users\\sheri\\appdata\\local\\programs\\python\\python311\\lib\\site-packages (from lifelines->ISLP->-r requirements.txt (line 7)) (0.5.0)\n",
      "Requirement already satisfied: formulaic>=0.2.2 in c:\\users\\sheri\\appdata\\local\\programs\\python\\python311\\lib\\site-packages (from lifelines->ISLP->-r requirements.txt (line 7)) (1.0.2)\n",
      "Requirement already satisfied: progressbar2<5.0.0,>=4.2.0 in c:\\users\\sheri\\appdata\\local\\programs\\python\\python311\\lib\\site-packages (from pygam->ISLP->-r requirements.txt (line 7)) (4.5.0)\n",
      "Requirement already satisfied: tqdm>=4.57.0 in c:\\users\\sheri\\appdata\\local\\programs\\python\\python311\\lib\\site-packages (from pytorch-lightning->ISLP->-r requirements.txt (line 7)) (4.66.5)\n",
      "Requirement already satisfied: PyYAML>=5.4 in c:\\users\\sheri\\appdata\\local\\programs\\python\\python311\\lib\\site-packages (from pytorch-lightning->ISLP->-r requirements.txt (line 7)) (6.0.2)\n",
      "Requirement already satisfied: fsspec>=2022.5.0 in c:\\users\\sheri\\appdata\\local\\programs\\python\\python311\\lib\\site-packages (from fsspec[http]>=2022.5.0->pytorch-lightning->ISLP->-r requirements.txt (line 7)) (2024.9.0)\n",
      "Requirement already satisfied: typing-extensions>=4.4.0 in c:\\users\\sheri\\appdata\\local\\programs\\python\\python311\\lib\\site-packages (from pytorch-lightning->ISLP->-r requirements.txt (line 7)) (4.12.2)\n",
      "Requirement already satisfied: lightning-utilities>=0.10.0 in c:\\users\\sheri\\appdata\\local\\programs\\python\\python311\\lib\\site-packages (from pytorch-lightning->ISLP->-r requirements.txt (line 7)) (0.11.8)\n",
      "Requirement already satisfied: filelock in c:\\users\\sheri\\appdata\\local\\programs\\python\\python311\\lib\\site-packages (from torch->ISLP->-r requirements.txt (line 7)) (3.16.1)\n",
      "Requirement already satisfied: networkx in c:\\users\\sheri\\appdata\\local\\programs\\python\\python311\\lib\\site-packages (from torch->ISLP->-r requirements.txt (line 7)) (3.4.1)\n",
      "Requirement already satisfied: jinja2 in c:\\users\\sheri\\appdata\\local\\programs\\python\\python311\\lib\\site-packages (from torch->ISLP->-r requirements.txt (line 7)) (3.1.4)\n",
      "Requirement already satisfied: sympy==1.13.1 in c:\\users\\sheri\\appdata\\local\\programs\\python\\python311\\lib\\site-packages (from torch->ISLP->-r requirements.txt (line 7)) (1.13.1)\n",
      "Requirement already satisfied: mpmath<1.4,>=1.1.0 in c:\\users\\sheri\\appdata\\local\\programs\\python\\python311\\lib\\site-packages (from sympy==1.13.1->torch->ISLP->-r requirements.txt (line 7)) (1.3.0)\n",
      "Requirement already satisfied: interface-meta>=1.2.0 in c:\\users\\sheri\\appdata\\local\\programs\\python\\python311\\lib\\site-packages (from formulaic>=0.2.2->lifelines->ISLP->-r requirements.txt (line 7)) (1.3.0)\n",
      "Requirement already satisfied: wrapt>=1.0 in c:\\users\\sheri\\appdata\\local\\programs\\python\\python311\\lib\\site-packages (from formulaic>=0.2.2->lifelines->ISLP->-r requirements.txt (line 7)) (1.16.0)\n",
      "Requirement already satisfied: aiohttp!=4.0.0a0,!=4.0.0a1 in c:\\users\\sheri\\appdata\\local\\programs\\python\\python311\\lib\\site-packages (from fsspec[http]>=2022.5.0->pytorch-lightning->ISLP->-r requirements.txt (line 7)) (3.10.10)\n",
      "Requirement already satisfied: setuptools in c:\\users\\sheri\\appdata\\local\\programs\\python\\python311\\lib\\site-packages (from lightning-utilities>=0.10.0->pytorch-lightning->ISLP->-r requirements.txt (line 7)) (65.5.0)\n",
      "Requirement already satisfied: python-utils>=3.8.1 in c:\\users\\sheri\\appdata\\local\\programs\\python\\python311\\lib\\site-packages (from progressbar2<5.0.0,>=4.2.0->pygam->ISLP->-r requirements.txt (line 7)) (3.9.0)\n",
      "Requirement already satisfied: colorama in c:\\users\\sheri\\appdata\\local\\programs\\python\\python311\\lib\\site-packages (from tqdm>=4.57.0->pytorch-lightning->ISLP->-r requirements.txt (line 7)) (0.4.6)\n",
      "Requirement already satisfied: MarkupSafe>=2.0 in c:\\users\\sheri\\appdata\\local\\programs\\python\\python311\\lib\\site-packages (from jinja2->torch->ISLP->-r requirements.txt (line 7)) (3.0.2)\n",
      "Requirement already satisfied: aiohappyeyeballs>=2.3.0 in c:\\users\\sheri\\appdata\\local\\programs\\python\\python311\\lib\\site-packages (from aiohttp!=4.0.0a0,!=4.0.0a1->fsspec[http]>=2022.5.0->pytorch-lightning->ISLP->-r requirements.txt (line 7)) (2.4.3)\n",
      "Requirement already satisfied: aiosignal>=1.1.2 in c:\\users\\sheri\\appdata\\local\\programs\\python\\python311\\lib\\site-packages (from aiohttp!=4.0.0a0,!=4.0.0a1->fsspec[http]>=2022.5.0->pytorch-lightning->ISLP->-r requirements.txt (line 7)) (1.3.1)\n",
      "Requirement already satisfied: attrs>=17.3.0 in c:\\users\\sheri\\appdata\\local\\programs\\python\\python311\\lib\\site-packages (from aiohttp!=4.0.0a0,!=4.0.0a1->fsspec[http]>=2022.5.0->pytorch-lightning->ISLP->-r requirements.txt (line 7)) (24.2.0)\n",
      "Requirement already satisfied: frozenlist>=1.1.1 in c:\\users\\sheri\\appdata\\local\\programs\\python\\python311\\lib\\site-packages (from aiohttp!=4.0.0a0,!=4.0.0a1->fsspec[http]>=2022.5.0->pytorch-lightning->ISLP->-r requirements.txt (line 7)) (1.4.1)\n",
      "Requirement already satisfied: multidict<7.0,>=4.5 in c:\\users\\sheri\\appdata\\local\\programs\\python\\python311\\lib\\site-packages (from aiohttp!=4.0.0a0,!=4.0.0a1->fsspec[http]>=2022.5.0->pytorch-lightning->ISLP->-r requirements.txt (line 7)) (6.1.0)\n",
      "Requirement already satisfied: yarl<2.0,>=1.12.0 in c:\\users\\sheri\\appdata\\local\\programs\\python\\python311\\lib\\site-packages (from aiohttp!=4.0.0a0,!=4.0.0a1->fsspec[http]>=2022.5.0->pytorch-lightning->ISLP->-r requirements.txt (line 7)) (1.15.4)\n",
      "Requirement already satisfied: idna>=2.0 in c:\\users\\sheri\\appdata\\local\\programs\\python\\python311\\lib\\site-packages (from yarl<2.0,>=1.12.0->aiohttp!=4.0.0a0,!=4.0.0a1->fsspec[http]>=2022.5.0->pytorch-lightning->ISLP->-r requirements.txt (line 7)) (3.10)\n",
      "Requirement already satisfied: propcache>=0.2.0 in c:\\users\\sheri\\appdata\\local\\programs\\python\\python311\\lib\\site-packages (from yarl<2.0,>=1.12.0->aiohttp!=4.0.0a0,!=4.0.0a1->fsspec[http]>=2022.5.0->pytorch-lightning->ISLP->-r requirements.txt (line 7)) (0.2.0)\n"
     ]
    }
   ],
   "source": [
    "pip install -r requirements.txt"
   ]
  },
  {
   "cell_type": "code",
   "execution_count": 104,
   "id": "c2ac4e0a-3c57-49fc-a354-622c1470c14f",
   "metadata": {},
   "outputs": [],
   "source": [
    "import numpy as np\n",
    "import pandas as pd\n",
    "import matplotlib.pyplot as plt\n",
    "from sklearn import datasets, linear_model\n",
    "from sklearn.metrics import classification_report,confusion_matrix,roc_curve,auc\n",
    "from sklearn.preprocessing import StandardScaler"
   ]
  },
  {
   "cell_type": "code",
   "execution_count": 4,
   "id": "37cfdba0-e7f1-4a05-8967-01066cf40d4b",
   "metadata": {},
   "outputs": [
    {
     "data": {
      "text/plain": [
       "(   age         workclass  fnlwgt  education  education-num  \\\n",
       " 0   39         State-gov   77516  Bachelors             13   \n",
       " 1   50  Self-emp-not-inc   83311  Bachelors             13   \n",
       " 2   38           Private  215646    HS-grad              9   \n",
       " 3   53           Private  234721       11th              7   \n",
       " 4   28           Private  338409  Bachelors             13   \n",
       " \n",
       "        marital-status         occupation   relationship   race     sex  \\\n",
       " 0       Never-married       Adm-clerical  Not-in-family  White    Male   \n",
       " 1  Married-civ-spouse    Exec-managerial        Husband  White    Male   \n",
       " 2            Divorced  Handlers-cleaners  Not-in-family  White    Male   \n",
       " 3  Married-civ-spouse  Handlers-cleaners        Husband  Black    Male   \n",
       " 4  Married-civ-spouse     Prof-specialty           Wife  Black  Female   \n",
       " \n",
       "    capital-gain  capital-loss  hours-per-week native-country  \n",
       " 0          2174             0              40  United-States  \n",
       " 1             0             0              13  United-States  \n",
       " 2             0             0              40  United-States  \n",
       " 3             0             0              40  United-States  \n",
       " 4             0             0              40           Cuba  ,\n",
       "   income\n",
       " 0  <=50K\n",
       " 1  <=50K\n",
       " 2  <=50K\n",
       " 3  <=50K\n",
       " 4  <=50K,\n",
       "        age workclass  fnlwgt     education  education-num      marital-status  \\\n",
       " 20156   18   Private  271935       HS-grad              9       Never-married   \n",
       " 28772   67   Private  160456          11th              7             Widowed   \n",
       " 1732    26   Private  314177       HS-grad              9       Never-married   \n",
       " 38871   31   Private  176711       HS-grad              9       Never-married   \n",
       " 27566   56   Private  134286  Some-college             10  Married-civ-spouse   \n",
       " \n",
       "               occupation   relationship   race     sex  capital-gain  \\\n",
       " 20156  Machine-op-inspct      Own-child  White  Female             0   \n",
       " 28772      Other-service  Not-in-family  White  Female             0   \n",
       " 1732               Sales  Not-in-family  Black    Male             0   \n",
       " 38871       Craft-repair  Not-in-family  White    Male             0   \n",
       " 27566    Exec-managerial        Husband  White    Male             0   \n",
       " \n",
       "        capital-loss  hours-per-week native-country  \n",
       " 20156             0              40  United-States  \n",
       " 28772             0              40  United-States  \n",
       " 1732              0              40  United-States  \n",
       " 38871             0              40  United-States  \n",
       " 27566             0              45  United-States  ,\n",
       "       income\n",
       " 20156  <=50K\n",
       " 28772  <=50K\n",
       " 1732   <=50K\n",
       " 38871  <=50K\n",
       " 27566  <=50K)"
      ]
     },
     "execution_count": 4,
     "metadata": {},
     "output_type": "execute_result"
    }
   ],
   "source": [
    "# Load the saved datasets from the CSV files\n",
    "X_train = pd.read_csv(\"../data/X_train.csv\", index_col=0)  # Use the first column as index\n",
    "y_train = pd.read_csv(\"../data/y_train.csv\", index_col=0)  # Use the first column as index\n",
    "X_test = pd.read_csv(\"../data/X_test.csv\", index_col=0)    # Use the first column as index\n",
    "y_test = pd.read_csv(\"../data/y_test.csv\", index_col=0)    # Use the first column as index\n",
    "\n",
    "# Display the first few rows of the loaded datasets\n",
    "(X_train.head(), y_train.head(), X_test.head(), y_test.head())"
   ]
  },
  {
   "cell_type": "code",
   "execution_count": 5,
   "id": "40b02291-b356-4d3d-a660-9441c90eec0b",
   "metadata": {},
   "outputs": [
    {
     "data": {
      "text/plain": [
       "(age                int64\n",
       " workclass         object\n",
       " fnlwgt             int64\n",
       " education         object\n",
       " education-num      int64\n",
       " marital-status    object\n",
       " occupation        object\n",
       " relationship      object\n",
       " race              object\n",
       " sex               object\n",
       " capital-gain       int64\n",
       " capital-loss       int64\n",
       " hours-per-week     int64\n",
       " native-country    object\n",
       " dtype: object,\n",
       " age                int64\n",
       " workclass         object\n",
       " fnlwgt             int64\n",
       " education         object\n",
       " education-num      int64\n",
       " marital-status    object\n",
       " occupation        object\n",
       " relationship      object\n",
       " race              object\n",
       " sex               object\n",
       " capital-gain       int64\n",
       " capital-loss       int64\n",
       " hours-per-week     int64\n",
       " native-country    object\n",
       " dtype: object)"
      ]
     },
     "execution_count": 5,
     "metadata": {},
     "output_type": "execute_result"
    }
   ],
   "source": [
    "# For running linear regression we need all of the features to be numbers, but currently we have:\n",
    "(X_train.dtypes,X_test.dtypes)"
   ]
  },
  {
   "cell_type": "code",
   "execution_count": 6,
   "id": "c526a070-6982-4398-b3a4-e650388b1947",
   "metadata": {},
   "outputs": [
    {
     "data": {
      "text/plain": [
       "(age               int64\n",
       " workclass         int64\n",
       " fnlwgt            int64\n",
       " education         int64\n",
       " education-num     int64\n",
       " marital-status    int64\n",
       " occupation        int64\n",
       " relationship      int64\n",
       " race              int64\n",
       " sex               int64\n",
       " capital-gain      int64\n",
       " capital-loss      int64\n",
       " hours-per-week    int64\n",
       " native-country    int64\n",
       " dtype: object,\n",
       " age               int64\n",
       " workclass         int64\n",
       " fnlwgt            int64\n",
       " education         int64\n",
       " education-num     int64\n",
       " marital-status    int64\n",
       " occupation        int64\n",
       " relationship      int64\n",
       " race              int64\n",
       " sex               int64\n",
       " capital-gain      int64\n",
       " capital-loss      int64\n",
       " hours-per-week    int64\n",
       " native-country    int64\n",
       " dtype: object)"
      ]
     },
     "execution_count": 6,
     "metadata": {},
     "output_type": "execute_result"
    }
   ],
   "source": [
    "# We thus want to factorize the object variables. To do this to both the test and the train data whilst ensuring the same key is used\n",
    "# for both, we briefly concatinate the dataframes before splitting them back up\n",
    "X_all = pd.concat({'X_train':X_train, 'X_test':X_test})\n",
    "\n",
    "# Then we factorize\n",
    "objects = ['workclass','education','marital-status','occupation','relationship','race','sex','native-country']\n",
    "keys = [0]*len(objects)\n",
    "\n",
    "for i in range(len(objects)):\n",
    "    X_all[objects[i]], keys[i] = pd.factorize(X_all[objects[i]])\n",
    "\n",
    "# Then we return the original test train split\n",
    "X_train = X_all.loc['X_train']\n",
    "X_test = X_all.loc['X_test']\n",
    "\n",
    "(X_train.dtypes,X_test.dtypes)"
   ]
  },
  {
   "cell_type": "code",
   "execution_count": 7,
   "id": "7195a99c-748d-4538-a5dc-3f29c6768ab7",
   "metadata": {},
   "outputs": [
    {
     "data": {
      "text/plain": [
       "(income    int64\n",
       " dtype: object,\n",
       " income    int64\n",
       " dtype: object)"
      ]
     },
     "execution_count": 7,
     "metadata": {},
     "output_type": "execute_result"
    }
   ],
   "source": [
    "# We thus want to factorize the object variables. To do this to both the test and the train data whilst ensuring the same key is used\n",
    "# for both, we briefly concatinate the dataframes before splitting them back up\n",
    "y_all = pd.concat({'y_train':y_train, 'y_test':y_test})\n",
    "\n",
    "# Then we factorize\n",
    "y_all['income'], income_key = pd.factorize(y_all['income'])\n",
    "\n",
    "# Then we return the original test train split\n",
    "y_train = y_all.loc['y_train']\n",
    "y_test = y_all.loc['y_test']\n",
    "\n",
    "(y_train.dtypes,y_test.dtypes)"
   ]
  },
  {
   "cell_type": "code",
   "execution_count": 95,
   "id": "4a173a99-3708-442f-9821-9e90d721dc99",
   "metadata": {},
   "outputs": [
    {
     "name": "stdout",
     "output_type": "stream",
     "text": [
      "Coefficients: \n",
      " [[ 7.50662500e-03  8.68613603e-02 -2.44022431e-06 -4.87676688e-02\n",
      "   1.67645280e-02 -1.31441768e-01 -8.35957039e-02 -4.65467488e-01\n",
      "  -8.14768283e-02 -2.44861810e-01  3.29749771e-04  7.02902314e-04\n",
      "  -1.94193091e-03 -1.77246967e-02]]\n",
      "Mean squared error: 0.21\n",
      "Coefficient of determination: -0.14\n",
      "0.798335596118067\n",
      "0.7900308778120865\n"
     ]
    },
    {
     "name": "stderr",
     "output_type": "stream",
     "text": [
      "C:\\Users\\Sheri\\AppData\\Local\\Programs\\Python\\Python311\\Lib\\site-packages\\sklearn\\linear_model\\_logistic.py:469: ConvergenceWarning: lbfgs failed to converge (status=1):\n",
      "STOP: TOTAL NO. of ITERATIONS REACHED LIMIT.\n",
      "\n",
      "Increase the number of iterations (max_iter) or scale the data as shown in:\n",
      "    https://scikit-learn.org/stable/modules/preprocessing.html\n",
      "Please also refer to the documentation for alternative solver options:\n",
      "    https://scikit-learn.org/stable/modules/linear_model.html#logistic-regression\n",
      "  n_iter_i = _check_optimize_result(\n"
     ]
    }
   ],
   "source": [
    "# Create linear regression object\n",
    "lr = linear_model.LogisticRegression(max_iter=1000)\n",
    "\n",
    "# Train the model using the training sets\n",
    "lr.fit(X_train,y_train.values.ravel())\n",
    "\n",
    "# Make predictions using the testing set\n",
    "y_pred = lr.predict(X_test)\n",
    "\n",
    "print(lr.score(X_train,y_train))\n",
    "print(lr.score(X_test,y_test))"
   ]
  },
  {
   "cell_type": "code",
   "execution_count": 109,
   "id": "e1bbdacd-39a2-4cfd-8e71-1a875ce5dad0",
   "metadata": {},
   "outputs": [
    {
     "name": "stdout",
     "output_type": "stream",
     "text": [
      "0.8258912857645698\n",
      "0.8201367445963829\n"
     ]
    }
   ],
   "source": [
    "pipe = make_pipeline(StandardScaler(), LogisticRegression())\n",
    "\n",
    "pipe.fit(X_train, y_train.values.ravel())  # apply scaling on training data\n",
    "y_pred2 = pipe.predict(X_test)\n",
    "\n",
    "print(pipe.score(X_train, y_train))\n",
    "print(pipe.score(X_test, y_test))"
   ]
  },
  {
   "cell_type": "code",
   "execution_count": 92,
   "id": "7fd85c82-cc7e-4c55-8d35-eb6f92831e14",
   "metadata": {},
   "outputs": [],
   "source": [
    "import sklearn.metrics as metrics\n",
    "def regression_results(y_true, y_pred):\n",
    "\n",
    "    # Regression metrics\n",
    "    explained_variance=metrics.explained_variance_score(y_true, y_pred)\n",
    "    mean_absolute_error=metrics.mean_absolute_error(y_true, y_pred) \n",
    "    mse=metrics.mean_squared_error(y_true, y_pred) \n",
    "    mean_squared_log_error=metrics.mean_squared_log_error(y_true, y_pred)\n",
    "    median_absolute_error=metrics.median_absolute_error(y_true, y_pred)\n",
    "    r2=metrics.r2_score(y_true, y_pred)\n",
    "\n",
    "    print('explained_variance: ', round(explained_variance,4))    \n",
    "    print('mean_squared_log_error: ', round(mean_squared_log_error,4))\n",
    "    print('r2: ', round(r2,4))\n",
    "    print('MAE: ', round(mean_absolute_error,4))\n",
    "    print('MSE: ', round(mse,4))\n",
    "    print('RMSE: ', round(np.sqrt(mse),4))"
   ]
  },
  {
   "cell_type": "code",
   "execution_count": 93,
   "id": "f69f19fd-f043-4cf6-80fe-28ac4f648481",
   "metadata": {},
   "outputs": [
    {
     "name": "stdout",
     "output_type": "stream",
     "text": [
      "explained_variance:  0.0036\n",
      "mean_squared_log_error:  0.0975\n",
      "r2:  -0.1028\n",
      "MAE:  0.203\n",
      "MSE:  0.203\n",
      "RMSE:  0.4506\n"
     ]
    }
   ],
   "source": [
    "# https://stackoverflow.com/questions/26319259/how-to-get-a-regression-summary-in-scikit-learn-like-r-does\n",
    "regression_results(y_test,y_pred)"
   ]
  },
  {
   "cell_type": "code",
   "execution_count": 86,
   "id": "7533d1a3-a4c8-43de-b460-fb9ceab80b2f",
   "metadata": {},
   "outputs": [
    {
     "name": "stdout",
     "output_type": "stream",
     "text": [
      "Optimization terminated successfully.\n",
      "         Current function value: 0.448115\n",
      "         Iterations 8\n",
      "                           Logit Regression Results                           \n",
      "==============================================================================\n",
      "Dep. Variable:                 income   No. Observations:                39774\n",
      "Model:                          Logit   Df Residuals:                    39760\n",
      "Method:                           MLE   Df Model:                           13\n",
      "Date:                Fri, 18 Oct 2024   Pseudo R-squ.:                  0.1841\n",
      "Time:                        17:33:15   Log-Likelihood:                -17823.\n",
      "converged:                       True   LL-Null:                       -21844.\n",
      "Covariance Type:            nonrobust   LLR p-value:                     0.000\n",
      "==================================================================================\n",
      "                     coef    std err          z      P>|z|      [0.025      0.975]\n",
      "----------------------------------------------------------------------------------\n",
      "age                0.0015      0.001      1.535      0.125      -0.000       0.003\n",
      "workclass          0.1262      0.011     11.394      0.000       0.105       0.148\n",
      "fnlwgt         -2.352e-06   1.29e-07    -18.230      0.000   -2.61e-06    -2.1e-06\n",
      "education         -0.0492      0.004    -11.935      0.000      -0.057      -0.041\n",
      "education-num      0.0464      0.005     10.270      0.000       0.038       0.055\n",
      "marital-status    -0.0354      0.014     -2.585      0.010      -0.062      -0.009\n",
      "occupation        -0.1181      0.004    -27.194      0.000      -0.127      -0.110\n",
      "relationship      -0.3200      0.011    -28.510      0.000      -0.342      -0.298\n",
      "race              -0.2249      0.025     -8.857      0.000      -0.275      -0.175\n",
      "sex               -1.4647      0.036    -40.983      0.000      -1.535      -1.395\n",
      "capital-gain       0.0003   8.51e-06     39.595      0.000       0.000       0.000\n",
      "capital-loss       0.0007   2.79e-05     24.932      0.000       0.001       0.001\n",
      "hours-per-week    -0.0054      0.001     -5.298      0.000      -0.007      -0.003\n",
      "native-country    -0.0070      0.003     -2.178      0.029      -0.013      -0.001\n",
      "==================================================================================\n"
     ]
    }
   ],
   "source": [
    "model = sm.Logit(y_train, X_train)\n",
    "results = model.fit()\n",
    "print(results.summary())"
   ]
  },
  {
   "cell_type": "code",
   "execution_count": 112,
   "id": "39d82856-3252-4fa5-828f-b13a52acbc49",
   "metadata": {},
   "outputs": [
    {
     "data": {
      "image/png": "[encoded data removed]",
      "text/plain": [
       "<Figure size 640x480 with 1 Axes>"
      ]
     },
     "metadata": {},
     "output_type": "display_data"
    }
   ],
   "source": [
    "# https://www.kaggle.com/code/shubhamlipare/logistic-regression-with-auc-roc-curve\n",
    "y_predprob=lr.predict_proba(X_test)\n",
    "y_predprob2=pipe.predict_proba(X_test)\n",
    "fpr,tpr,threshold = roc_curve(y_test,y_predprob[:,1])\n",
    "fpr2,tpr2,threshold = roc_curve(y_test,y_predprob2[:,1])\n",
    "plt.plot(fpr,tpr)\n",
    "plt.plot(fpr2,tpr2)\n",
    "plt.xlabel('False positive rate')\n",
    "plt.ylabel('True positive rate')\n",
    "plt.title('ROC curve')\n",
    "plt.legend(['No Preprocessing','Preprocessing'])"
   ]
  },
  {
   "cell_type": "code",
   "execution_count": 113,
   "id": "1074a7d6-3d12-47d7-b47a-7f48d0defb45",
   "metadata": {},
   "outputs": [
    {
     "name": "stdout",
     "output_type": "stream",
     "text": [
      "0.7291075807930096\n",
      "0.8480098063282541\n"
     ]
    }
   ],
   "source": [
    "print(auc(fpr,tpr))\n",
    "print(auc(fpr2,tpr2))"
   ]
  },
  {
   "cell_type": "code",
   "execution_count": null,
   "id": "d2570b61-6b30-445c-a703-dd8e0d2d1e70",
   "metadata": {},
   "outputs": [],
   "source": []
  }
 ],
 "metadata": {
  "kernelspec": {
   "display_name": "Python 3 (ipykernel)",
   "language": "python",
   "name": "python3"
  },
  "language_info": {
   "codemirror_mode": {
    "name": "ipython",
    "version": 3
   },
   "file_extension": ".py",
   "mimetype": "text/x-python",
   "name": "python",
   "nbconvert_exporter": "python",
   "pygments_lexer": "ipython3",
   "version": "3.11.1"
  }
 },
 "nbformat": 4,
 "nbformat_minor": 5
}
