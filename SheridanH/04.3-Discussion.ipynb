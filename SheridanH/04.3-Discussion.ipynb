{
 "cells": [
  {
   "cell_type": "markdown",
   "id": "41e86943-ca0d-4315-a68a-71ccda61b083",
   "metadata": {},
   "source": [
    "# Overview\n",
    "\n",
    "In this section we have applied a Logistic Regression model to our dataset, with the goal of predicting whether or not an individual earns more or less than 50k a year. We managed to attain a success rate of around 82%, which was unfortunately not easily improved. This tells us that this dataset was not one that was easily predictable by this model, suggesting that there were limitations on our model. One big limitation of Logistic Regression is that the model assumes that there is a linear relationship between the dependent variable and the independent variables. This assumption may not strongly apply to our datset which is what causes the lower performance. Another big assumption is that the model assumes that there is little or no multicollinearity among the independent variables. This is unlikely for our model as several of the features will be influenced by other features. For example, occupation will be influenced by education and may also be influenced by other factors such as native country, race, and sex."
   ]
  },
  {
   "cell_type": "markdown",
   "id": "89486ba2-bb21-4ed8-a4d3-bddc29deebd9",
   "metadata": {},
   "source": [
    "# Conclusion\n",
    "\n",
    "We conclude that Logistic Regression is not an entirely appropriate model for our goal of predicting income. Whilst it was able to perform at around 82% accuracy, in reality this is an 18% failure rate which would not be acceptable for real world applications. The lack of flexibility in improving the model also suggests that the dataset did not adhere to the assumptions that are required for this model to perform well, and that other models would best be considered for this problem.\n",
    "\n",
    "When it comes to the question that we set out to answer:\n",
    "\n",
    "* How does the proportion of high income individuals vary by sex?\n",
    "\n",
    "This model suggests that females are less likely than males to earn more than 50k a year, at a rate of around 32%. This conclusion seems realistic but may be influenced by the imbalance of the data, with there being many more male individuals in the dataset than females. We tried to account for this by retaining the proportion of male to female individuals in both the training and testing datasets but it is unclear whether this was entirely effective so we can not be completely confident in this."
   ]
  },
  {
   "cell_type": "markdown",
   "id": "a4b56c77-b3e2-4bab-8127-016ffea1f15f",
   "metadata": {},
   "source": [
    "# References"
   ]
  }
 ],
 "metadata": {
  "kernelspec": {
   "display_name": "Python 3 (ipykernel)",
   "language": "python",
   "name": "python3"
  },
  "language_info": {
   "codemirror_mode": {
    "name": "ipython",
    "version": 3
   },
   "file_extension": ".py",
   "mimetype": "text/x-python",
   "name": "python",
   "nbconvert_exporter": "python",
   "pygments_lexer": "ipython3",
   "version": "3.11.1"
  }
 },
 "nbformat": 4,
 "nbformat_minor": 5
}
